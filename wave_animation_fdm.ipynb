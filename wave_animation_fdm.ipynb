{
 "cells": [
  {
   "cell_type": "markdown",
   "id": "d5193c2e-b7a4-4169-8a47-3ea089c6fa57",
   "metadata": {},
   "source": [
    "# Damped Wave Animation by Finite Difference Method"
   ]
  },
  {
   "cell_type": "markdown",
   "id": "69bcc430-9386-4eda-9f0d-4b874d35f359",
   "metadata": {},
   "source": [
    "\n",
    "We want to compute a solution $u(x, t)$ satisfying the damped wave equation $\\partial_{t}^{2}u + k\\partial_{t}u = c^{2}\\partial_{x}^{2}u$ with boundary conditions $u(x=0, t) = \\phi(t)$ and $u(x=L, t) = 0$ and initial conditions $u(x, t=0) = f(x)$ and $\\partial_{t}u(x, t=0) = g(x)$. \n",
    "\n",
    "We perform the computation by an **explicit finite difference method.** Writing $u_{j}^{l} = u(j\\Delta x, l\\Delta t)$, we take central different approximations to obtain the following discrete version of the damped wave equation:\n",
    "\n",
    "$$ \\frac{u_{j}^{l+1} - 2u_{j}^{l} + u_{j}^{l-1}}{(\\Delta t)^{2}} + k\\frac{u_{j}^{l+1} - u_{j}^{l-1}}{2\\Delta t} = c^{2}\\frac{u_{j+1}^{l} - 2u_{j}^{l} + u_{j-1}^{l}}{(\\Delta x)^{2}} $$\n",
    "\n",
    "which yields\n",
    "\n",
    "$$ u_{j}^{l+1} = \\left(1 + \\frac{k\\Delta t}{2}\\right)^{-1}\\left( \\frac{c^2 \\Delta t^2}{\\Delta x^2}(u_{j+1}^{l} - 2u_{j}^{l} + u_{j-1}^{l}) + 2u_{j}^{l} - u_{j}^{l-1} + \\frac{k\\Delta t}{2}u_{j}^{l-1} \\right). $$\n",
    "\n",
    "The discretized boundary conditions are\n",
    "\n",
    "$$ u_{0}^{l} = \\phi(t^{l}) \\qquad\\text{and}\\qquad u_{n}^{l} = 0 $$\n",
    "\n",
    "where $n\\Delta x = L$. Lastly, the initial conditions are\n",
    "\n",
    "$$ u_{j}^{0} = f(x_{j}) \\qquad\\text{and}\\qquad u_{j}^{1} = g(x_{j})\\Delta t + f(x_{j}). $$\n",
    "\n",
    "The latter condition can be obtained from the approximate condition $g(x_{j}) = (u_{j}^{1} - u_{j}^{0})/\\Delta t + O(h)$. "
   ]
  },
  {
   "cell_type": "markdown",
   "id": "c645ef85-40ca-4627-bc89-fa03df50ee1b",
   "metadata": {},
   "source": [
    "\n",
    "When choosing our space and time gridspacing, we ought to adhere to the **CFL condition**\n",
    "\n",
    "$$ c\\frac{\\Delta t}{\\Delta x} \\le 1. $$\n",
    "\n",
    "Otherwise, instabilities will appear. Moreover, to counter numerical dispersion, we will choose our gridspacing so that both sides of the above inequality are equal. "
   ]
  },
  {
   "cell_type": "code",
   "execution_count": 1,
   "id": "bf3778b4-df19-421c-a82e-fa9e70980c0c",
   "metadata": {},
   "outputs": [],
   "source": [
    "# import\n",
    "import numpy as np\n",
    "import matplotlib.pyplot as plt\n",
    "from matplotlib.animation import FuncAnimation"
   ]
  },
  {
   "cell_type": "code",
   "execution_count": 2,
   "id": "e966fc13-beae-4c96-97e0-0a36361ee0db",
   "metadata": {},
   "outputs": [],
   "source": [
    "# constants\n",
    "L = 3\n",
    "c = 1\n",
    "k = 0.2\n",
    "t_total = 20\n",
    "fps_play = 30 # dt = 1/fps_play\n",
    "nx = int(L / (c / fps_play)) # CFL condition with equality\n",
    "\n",
    "# define arrays\n",
    "x_array = np.linspace(0, L, nx)\n",
    "t_array = np.arange(0, t_total, 1/fps_play)\n",
    "\n",
    "dx = x_array[1] - x_array[0]\n",
    "dt = t_array[1] - t_array[0]"
   ]
  },
  {
   "cell_type": "code",
   "execution_count": 3,
   "id": "2c9986ac-178d-45c6-a2ab-f6d2300b0b01",
   "metadata": {},
   "outputs": [],
   "source": [
    "# left define boundary function\n",
    "def phi(t):\n",
    "    sigma = 5\n",
    "    return np.exp(-sigma * (t - 1)**2)\n",
    "\n",
    "# initial condition functions\n",
    "def f(x):\n",
    "    return 0\n",
    "\n",
    "def g(x):\n",
    "    return 0"
   ]
  },
  {
   "cell_type": "code",
   "execution_count": 4,
   "id": "bead846c-3503-4554-80f3-560f38f89da4",
   "metadata": {},
   "outputs": [],
   "source": [
    "# solution grid\n",
    "u_x_t = np.zeros((len(x_array), len(t_array)))\n",
    "\n",
    "# initial conditions\n",
    "u_x_t[:, 0] = f(x_array)\n",
    "u_x_t[:, 1] = g(x_array)*dt + f(x_array)\n",
    "\n",
    "# boundary conditions\n",
    "u_x_t[0, :] = phi(t_array)"
   ]
  },
  {
   "cell_type": "code",
   "execution_count": 5,
   "id": "1828d614-a340-43ed-a4c0-018ecd145f8e",
   "metadata": {},
   "outputs": [],
   "source": [
    "# explicit time-evolution\n",
    "factor1 = (1 + k*dt/2)**-1\n",
    "factor2 = (c*dt/dx)**2\n",
    "factor3 = k*dt/2\n",
    "for l in range(1, len(t_array)-1):\n",
    "    u_x_t[1:-1, l+1] = factor1 * (\n",
    "        factor2 * (u_x_t[2:, l] - 2*u_x_t[1:-1, l] + u_x_t[:-2, l])\n",
    "        + 2*u_x_t[1:-1, l] - u_x_t[1:-1, l-1] + factor3 * u_x_t[1:-1, l-1]\n",
    "    )"
   ]
  },
  {
   "cell_type": "code",
   "execution_count": 6,
   "id": "9b5f61fc-820e-41a6-9f29-44abdbfb52a1",
   "metadata": {},
   "outputs": [
    {
     "name": "stdout",
     "output_type": "stream",
     "text": [
      "progress = 1.00           "
     ]
    },
    {
     "data": {
      "image/png": "[encoded data removed]",
      "text/plain": [
       "<Figure size 640x480 with 1 Axes>"
      ]
     },
     "metadata": {},
     "output_type": "display_data"
    }
   ],
   "source": [
    "# initial plot\n",
    "fig, ax = plt.subplots()\n",
    "initial_data = u_x_t[:, 0]\n",
    "line, = ax.plot(x_array, np.real(initial_data), color='blue')\n",
    "ax.set_xlim(0, L)\n",
    "ax.set_ylim(-2, 2)\n",
    "ax.set_title(f'Re u(x, t) at t = 0.00, k = {k}, c = {c}')\n",
    "ax.set_xlabel('x')\n",
    "ax.set_ylabel('')\n",
    "\n",
    "# update function for animation\n",
    "def update(index):\n",
    "    y_data = np.real(u_x_t[:, index])\n",
    "    line.set_ydata(np.real(y_data))\n",
    "\n",
    "    t_curr = t_array[index]\n",
    "    prog = index/len(t_array)\n",
    "    ax.set_title(f'Re u(x, t) at t = {t_curr:.2f}, k = {k}, c = {c}')\n",
    "    \n",
    "    print(f\"\\rprogress = {prog:.2f}           \", end = \"\")\n",
    "    return line,\n",
    "\n",
    "# create animation\n",
    "ani = FuncAnimation(fig, update, frames=range(len(t_array)), blit=True)\n",
    "\n",
    "# save the animation (requires ffmpeg installed)\n",
    "ani.save('gaussianwave_animation2_fdm.mp4', fps=fps_play, extra_args=['-vcodec', 'libx264'])\n",
    "plt.show()"
   ]
  },
  {
   "cell_type": "code",
   "execution_count": null,
   "id": "3d3e7fd3-7c9f-40c8-abce-2fb5162fe200",
   "metadata": {},
   "outputs": [],
   "source": []
  }
 ],
 "metadata": {
  "kernelspec": {
   "display_name": "Python 3 (ipykernel)",
   "language": "python",
   "name": "python3"
  },
  "language_info": {
   "codemirror_mode": {
    "name": "ipython",
    "version": 3
   },
   "file_extension": ".py",
   "mimetype": "text/x-python",
   "name": "python",
   "nbconvert_exporter": "python",
   "pygments_lexer": "ipython3",
   "version": "3.11.2"
  }
 },
 "nbformat": 4,
 "nbformat_minor": 5
}
